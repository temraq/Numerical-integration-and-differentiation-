{
 "cells": [
  {
   "cell_type": "markdown",
   "metadata": {},
   "source": [
    "# Лабораторная работа №6 \n",
    "## Липатова София\n",
    "## А-14-21  \n",
    "# Вариант №27"
   ]
  },
  {
   "cell_type": "code",
   "execution_count": 79,
   "metadata": {},
   "outputs": [],
   "source": [
    "import numpy as np\n",
    "import matplotlib.pyplot as plt"
   ]
  },
  {
   "cell_type": "markdown",
   "metadata": {},
   "source": [
    "**Задача 6.1.**\n",
    "Вычислить значение интеграла $I =  \\int_{1}^{3} P_m(x) \\,dx $, где $ P_m(x) = \\sum_{i=0}^{m} c_i x^i$, с помощью  квадратурных  формул  левых прямоугольников и по формуле индивидуального варианта с точностью $\\epsilon = 0.01$. Вычислить интеграл по формуле Гаусса."
   ]
  },
  {
   "cell_type": "markdown",
   "metadata": {},
   "source": [
    "$ P_m(x) = 0.8 + 6.5x – 4.4x^2 + 6.1x^3\t– 3.6x^4$"
   ]
  },
  {
   "cell_type": "code",
   "execution_count": 80,
   "metadata": {},
   "outputs": [],
   "source": [
    "def P(x):\n",
    "    return 0.8 + 6.5*x - 4.4*x**2 + 6.1*x**3 - 3.6*x**4\n",
    "\n",
    "seg = np.array([1,3])\n"
   ]
  },
  {
   "cell_type": "markdown",
   "metadata": {},
   "source": [
    "1. Вычислить аналитически значение интеграла."
   ]
  },
  {
   "cell_type": "markdown",
   "metadata": {},
   "source": [
    "$I =  \\int_{1}^{3} P_m(x) \\,dx = 0.8x + \\frac {6.52} {2} x^2 - \\frac{4.4} {3} x^3 + \\frac {6.1} {4} x^4 - \\frac {3.6}{5} x^5   \\Big|_{1}^{3} = -62.7733$"
   ]
  },
  {
   "cell_type": "markdown",
   "metadata": {},
   "source": [
    "2. Используя выражение для остаточного члена интегрирования для формулы левых прямоугольников, оценить шаг интегрирования  h , при котором  величина погрешности  квадратурной формулы  будет меньше $\\epsilon$. Вычислить число отрезков разбиения n."
   ]
  },
  {
   "cell_type": "markdown",
   "metadata": {},
   "source": [
    "$R = \\max_{x \\in [1, 3]}| f^1(x)| \\frac {b-a}{2} h$"
   ]
  },
  {
   "cell_type": "markdown",
   "metadata": {},
   "source": [
    "$\\frac {b-a}{2} = \\frac {3-1}{2}  = 1$\n",
    "\n",
    "$f^1(x) = - 14.4x^3 + 18.3x^2 - 8.8 x + 6.5$ - быстро убывающая функция\n",
    "\n",
    "$max |f1(x)| = |f^1(3)| = 244$\n",
    "\n",
    "$R = 244 h < 0.01$\n",
    "\n",
    "$h<\\frac{0.01} {244}$\n",
    "\n",
    "$h=0.00004$\n",
    "\n",
    "$n = (b-a)/h  = 2/0.00004 = 50000$"
   ]
  },
  {
   "cell_type": "markdown",
   "metadata": {},
   "source": [
    "3. Вычислить значение интеграла $I^h$  по составной квадратурной  формуле левых прямоугольников  с найденным шагом  h . Найти величину погрешности $R^h = |I-I^h|$  ."
   ]
  },
  {
   "cell_type": "code",
   "execution_count": 81,
   "metadata": {},
   "outputs": [
    {
     "name": "stdout",
     "output_type": "stream",
     "text": [
      "I^h =  -62.774893899413996\n",
      "R^h =  0.0015938994139972351\n"
     ]
    }
   ],
   "source": [
    "def lrec (h,n,x):\n",
    "    sum = 0\n",
    "    for i in range(0,n): #не включает n\n",
    "        sum+=P(x[i])\n",
    "        \n",
    "    return h*sum\n",
    "\n",
    "h = 0.00004\n",
    "n = 50000\n",
    "x = np.linspace(1,3, num = n)\n",
    "\n",
    "\n",
    "\n",
    "Ih = lrec(h,n,x)\n",
    "print(\"I^h = \",Ih)\n",
    "\n",
    "def err(x,y):\n",
    "    return np.abs(x-y)\n",
    "\n",
    "I = -62.7733\n",
    "\n",
    "print(\"R^h = \",err(I,Ih))"
   ]
  },
  {
   "cell_type": "markdown",
   "metadata": {},
   "source": [
    "$\\epsilon  = 0.0016 < 0.01$\n",
    "Погрешность соответствует теоретическим ожиданиям. "
   ]
  },
  {
   "cell_type": "markdown",
   "metadata": {},
   "source": [
    "2. Используя выражение для остаточного  члена интегрирования для формулы Симпсона, оценить шаг интегрирования  h , при котором  величина погрешности  квадратурной формулы  будет меньше $\\epsilon$ . Вычислить число отрезков разбиения n."
   ]
  },
  {
   "cell_type": "markdown",
   "metadata": {},
   "source": [
    "$R = max|f^4(x)| \\frac{b-a}{2880} h^4 $"
   ]
  },
  {
   "cell_type": "markdown",
   "metadata": {},
   "source": [
    "$\\frac{b-a}{2880} = \\frac{2}{2880} = 0.0007$\n",
    "\n",
    "$max_{x \\in {1}{3}} |f^4(x)| =  = 86.4 $\n",
    "\n",
    "$R = 0.0007 * 86.4  h^4 < 0.01$\n",
    "\n",
    "$h=0.5$\n",
    "\n",
    "$n = (b-a)/0.5  = 2/0.5 = 4$"
   ]
  },
  {
   "cell_type": "markdown",
   "metadata": {},
   "source": [
    "3. Вычислить значение интеграла $I^h$ по составной квадратурной  формуле Симпсона с найденным шагом. Найти величину погрешности $R^h = |I-I^h|$."
   ]
  },
  {
   "cell_type": "markdown",
   "metadata": {},
   "source": [
    "Составная формула Гаусса:\n"
   ]
  },
  {
   "cell_type": "code",
   "execution_count": 82,
   "metadata": {},
   "outputs": [
    {
     "name": "stdout",
     "output_type": "stream",
     "text": [
      "I^h =  -62.77708333333336\n",
      "R^h =  0.003783333333359451\n"
     ]
    }
   ],
   "source": [
    "def simps(h,n,x):\n",
    "    sum1 = 0\n",
    "    sum2 = 0\n",
    "    for i in range(1,2*n,2):\n",
    "        sum1+= P(x[i])\n",
    "    for i in range(2,2*n,2):\n",
    "        sum2 += P(x[i])\n",
    "        \n",
    "    return h*(P(x[0]) + 4*sum1 + 2*sum2 + P(x[2*n]))/6 #шаг h - между i и i+1, отрезков c таким шагом [i,i+1] n, узлов 2n+1, а сдвоенных отрезков 2n\n",
    "\n",
    "#она 4-го порядка точности, но почему же тогда погрешность...\n",
    "    \n",
    "\n",
    "h = 0.5\n",
    "n = 4\n",
    "x = np.linspace(1,3,2*n+1)\n",
    "\n",
    "\n",
    "print(\"I^h = \" , simps(h,n,x))\n",
    "print(\"R^h = \", err(I,simps(h,n,x)))"
   ]
  },
  {
   "cell_type": "markdown",
   "metadata": {},
   "source": [
    "$\\epsilon  = 0.00378 < 0.01$\n",
    "Погрешность соответствует теоретическим ожиданиям. "
   ]
  },
  {
   "cell_type": "markdown",
   "metadata": {},
   "source": [
    "5. Основываясь на  заданной степени многочлена m, выбрать число узлов для квадратуры Гаусса, обеспечивающее вычисление интеграла без погрешности. Вычислить  интеграл $I^G$."
   ]
  },
  {
   "cell_type": "markdown",
   "metadata": {},
   "source": [
    "Формула Гаусса точна для многочленов степени $2N+1$ при $N+1$ узлах.\n",
    "Мы имеем многочлен степени $m < 2*2+1 = 5$ => формула гаусса будет точна при *3-х узлах*. "
   ]
  },
  {
   "cell_type": "code",
   "execution_count": 83,
   "metadata": {},
   "outputs": [
    {
     "name": "stdout",
     "output_type": "stream",
     "text": [
      "I^G =  -62.773333333333326\n"
     ]
    }
   ],
   "source": [
    "def Gauss (a,b,N, t, A):\n",
    "    sum = 0\n",
    "    for i in range(N+1):\n",
    "        sum+=A[i]*P((a+b)/2 + (b-a)/2*t[i])\n",
    "    return (b-a)/2*sum\n",
    "    \n",
    "t = np.array([-np.sqrt(3/5), 0, np.sqrt(3/5)])\n",
    "A = np.array([5/9, 8/9, 5/9])\n",
    "\n",
    "print(\"I^G = \" , Gauss(1,3,2, t, A))"
   ]
  },
  {
   "cell_type": "markdown",
   "metadata": {},
   "source": [
    "6. Таблица.\n",
    "\n",
    "\n",
    "|Найденное точное значение интеграла $I = -62.7733$| Число разбиений отрезка n. Шаг интегрирования  h| Значение интеграла, вычисленное по составной формуле. Величина погрешности  интеграла, вычисленного по  составной формуле| \n",
    "|-----|------|------|\n",
    "|Метод  Левых  прямоугольников|$n = 50000$  $h = 0.00004$| $I^h = -62.774893899413996$  $R^h = 0.0015938994139972351$| \n",
    "|-----|------|------|\n",
    "|Метод Симпсона|$n = 4$ $h = 0.5$| $I^h =  -62.77708333333336$  $R^h =  0.003783333333359451$| \n",
    "|-----|------|------|\n",
    "|Метод Гаусса|$N = 3$| $I^G =  -62.7733$| \n",
    "\n",
    "\n"
   ]
  },
  {
   "cell_type": "markdown",
   "metadata": {},
   "source": [
    "**Задача 6.2**. Вычислить  интеграл $I =  \\int_{a}^{b} f(x) \\,dx $  с точностью  $\\epsilon = 10^{-12}$ по формуле левых прямоугольников  и по формуле индивидуального варианта. Функцию $f(x)$ и отрезок $[a,b]$ взять из **задачи 5.3**.\n"
   ]
  },
  {
   "cell_type": "markdown",
   "metadata": {},
   "source": [
    "$f(x) = 3sin(x^3),\n",
    "[1,2.5]$\n",
    " \n",
    "\n"
   ]
  },
  {
   "cell_type": "markdown",
   "metadata": {},
   "source": [
    "1. Вычислить интеграл   с помощью средств пакета PYTHON."
   ]
  },
  {
   "cell_type": "code",
   "execution_count": 90,
   "metadata": {},
   "outputs": [
    {
     "name": "stdout",
     "output_type": "stream",
     "text": [
      "9.515625000000025\n"
     ]
    }
   ],
   "source": [
    "def f(x):\n",
    "    return (x**3)\n",
    "\n",
    "x = np.linspace(1,2.5, num = 10000000) \n",
    "integr = np.trapz(f(x),x)\n",
    "print(integr)"
   ]
  },
  {
   "cell_type": "markdown",
   "metadata": {},
   "source": [
    "2. Составить программу, содержащую следующие разделы: \n",
    "\n",
    "а) процедуру-функцию, вычисляющую  интеграл по составной квадратурной формуле  из  индивидуального варианта $I^h$     с заданным шагом $h$.\n",
    "\n",
    "б) подпрограмму, вычисляющую значение интеграла с заданной точностью  $\\epsilon$;  оценку погрешности производить на основе правила Рунге.\n",
    "\n",
    "с) вычисление уточненного значение интеграла  и величину погрешности $R^{уточн} = |I^{уточн} - I|$.\n"
   ]
  },
  {
   "cell_type": "code",
   "execution_count": 91,
   "metadata": {},
   "outputs": [
    {
     "name": "stdout",
     "output_type": "stream",
     "text": [
      "По методу левых прямоугольников:                             \n",
      "I_h =  0.7961281793829108\n",
      "I_h/2 =  0.7961279793609859\n",
      "R =  1.3334794994139069e-08\n",
      "h = 2.34375e-07\n",
      "n = 25600000.0\n",
      "h/2 = 5.859375e-08\n",
      "8.719496820617113\n",
      "8.71949702063904\n"
     ]
    }
   ],
   "source": [
    "def lrec2(N):\n",
    "    n = N\n",
    "    x = np.linspace(1,2.5,n+1)\n",
    "    h = np.abs(x[0] - x[n])/n\n",
    "    sum = 0\n",
    "    for i in range(n): #не включает n\n",
    "        sum+=f(x[i])\n",
    "    print(h*sum, \"h = \", h)\n",
    "    return h*sum\n",
    "\n",
    "eps = 10**(-12)  \n",
    "n = 50000\n",
    "\n",
    "#while np.abs(lrec2(2*n) - lrec2(n))/(2**4 - 1) > eps:\n",
    "      #n = n*2\n",
    "\n",
    "I_n = 0.7961281793829108\n",
    "I_2n = 0.7961279793609859\n",
    "R = np.abs(I_n - I_2n)/(2**4 - 1)\n",
    "print(\"По методу левых прямоугольников:                             \")\n",
    "print(\"I_h = \", I_n)\n",
    "print(\"I_h/2 = \", I_2n)\n",
    "\n",
    "print(\"R = \", R)  \n",
    "\n",
    "print(\"h = 2.34375e-07\")\n",
    "print(\"n =\", 1.5/5.859375e-08)\n",
    "\n",
    "print(\"h/2 = 5.859375e-08\")\n",
    "    \n",
    "print(np.abs(I_n - integr))\n",
    "print(np.abs(I_2n - integr))\n"
   ]
  },
  {
   "cell_type": "code",
   "execution_count": 92,
   "metadata": {},
   "outputs": [
    {
     "name": "stdout",
     "output_type": "stream",
     "text": [
      "По методу Cимпсона:                             \n",
      "I_h =  9.515625\n",
      "I_h/2 =  9.515625\n",
      "n =  8\n",
      "R^h =  0.0\n",
      "h = 0.375\n",
      "h/2 = 0.1875\n",
      "2.4868995751603507e-14\n",
      "2.4868995751603507e-14\n",
      "I уточн =  9.515625\n",
      "R уточн = 2.4868995751603507e-14\n"
     ]
    }
   ],
   "source": [
    "def simps2(N):\n",
    "    n = N\n",
    "    sum1 = 0\n",
    "    sum2 = 0\n",
    "    x = np.linspace(1,2.5,2*n+1)\n",
    "    h = np.abs(x[0] - x[2*n])/n\n",
    "    for i in range(1,2*n,2):\n",
    "            sum1+= f(x[i])\n",
    "    for i in range(2,2*n,2):\n",
    "            sum2 += f(x[i])\n",
    "    I = h*(f(x[0]) + 4*sum1 + 2*sum2 + f(x[2*n]))/6 \n",
    "        \n",
    "    return I\n",
    "\n",
    "eps = 10**(-12)  \n",
    "n = 4\n",
    "\n",
    "while np.abs(simps2(2*n) - simps2(n))/(2**4 - 1) > eps:\n",
    "        n = n*2\n",
    "\n",
    "I_n = simps2(n)\n",
    "I_2n = simps2(2*n)\n",
    "R = (I_2n - I_n)/(2**4 - 1)\n",
    "\n",
    "#I2n = simps2(4*n)\n",
    "#In = (I2n - I_2n)/(2**4 - 1)\n",
    "print(\"По методу Cимпсона:                             \")\n",
    "print(\"I_h = \", I_n)\n",
    "print(\"I_h/2 = \", I_2n)\n",
    "print(\"n = \", 2*n)\n",
    "print(\"R^h = \", R)  \n",
    "\n",
    "x = np.linspace(1,2.5,2*n+1)\n",
    "print(\"h =\", np.abs(x[0] - x[2*n])/n)\n",
    "\n",
    "N = 2*n\n",
    "x = np.linspace(1,2.5,2*N+1)\n",
    "print(\"h/2 =\", np.abs(x[0] - x[2*N])/N)\n",
    "    \n",
    "print(np.abs(I_n - integr)) \n",
    "print(np.abs(I_2n - integr))\n",
    "\n",
    "I_u =  I_2n + R\n",
    "print(\"I уточн = \", I_u)\n",
    "\n",
    "print(\"R уточн =\", integr - I_u )"
   ]
  },
  {
   "cell_type": "markdown",
   "metadata": {},
   "source": [
    "\n",
    "|$I = 0.7961164673096424$| Метод левых прямоугольников| Метод Симпсона| \n",
    "|-----|------|------|\n",
    "|Число разбиений отрезка|$n = 25600000$|$n = 4096$| \n",
    "|-----|------|------|\n",
    "|Значение интеграла|$I^h = 0.7961279793609859$| $I^h =  -0.79612791268690976$| \n",
    "|-----|------|------|\n",
    "|Величина погрешности|$R^h = 1.3334794994139069e08$| $R^h = 1.2271665165523396e13$| \n",
    "|-----|------|------|\n",
    "|Уточненное значение интеграла|                     | $I^{уточн} =   0.7961279126867871$|\n",
    "|-----|------|------|\n",
    "|Величина погрешности уточненного значения интеграла|   | $R^h =  1.1445377144703173e-05$|"
   ]
  },
  {
   "cell_type": "markdown",
   "metadata": {},
   "source": [
    "**Задача 6.3**.  Дана  формула численного дифференцирования $f'(x) \\approx af(x) + bf(x+k_{1}h) + cf(x+k_{2}h) + df(x+k_{3}h)$\n",
    " \n",
    "Требуется  исследовать поведение погрешностей при численном дифференцировании.\n"
   ]
  },
  {
   "cell_type": "markdown",
   "metadata": {},
   "source": [
    "$k_1 = -6$ $k_2 = -7$ $k_3  = 9$"
   ]
  },
  {
   "cell_type": "markdown",
   "metadata": {},
   "source": [
    "Получившиеся коэффициенты:\n",
    "\n",
    "$a = -29/2394$ $b = 7/38$ $c = -243/1064$ $d = 77/1368$\n",
    "\n",
    "Формула не менее 3-го порядка точности."
   ]
  },
  {
   "cell_type": "code",
   "execution_count": 93,
   "metadata": {},
   "outputs": [],
   "source": [
    "def deriv_ac(x):\n",
    "    return 6.5 - 2*4.4*x + 3*6.1*x**2 - 4*3.6*x**3\n",
    "\n",
    "def deriv(x,h):\n",
    "    return (-29/2394*P(x) + 7/38*P(x - 6*h) -243/1064*P(x - 7*h) + 77/1368*P(x + 9*h))/h\n",
    "\n",
    "def der_right(x,h):\n",
    "    return (P(x+h) - P(x))/h\n",
    "\n",
    "h=0.0001 "
   ]
  },
  {
   "cell_type": "code",
   "execution_count": 94,
   "metadata": {},
   "outputs": [
    {
     "data": {
      "image/png": "[encoded data removed]",
      "text/plain": [
       "<Figure size 432x288 with 1 Axes>"
      ]
     },
     "metadata": {
      "needs_background": "light"
     },
     "output_type": "display_data"
    }
   ],
   "source": [
    "x = np.linspace(1,3)\n",
    "\n",
    "plt.plot(x,deriv_ac(x))\n",
    "\n",
    "plt.plot(x, deriv(x, h))\n",
    "plt.show()\n"
   ]
  },
  {
   "cell_type": "code",
   "execution_count": 95,
   "metadata": {},
   "outputs": [
    {
     "name": "stdout",
     "output_type": "stream",
     "text": [
      "0.1 53.937869390630844\n",
      "0.01 5.241607890999841\n",
      "0.001 0.5226593663757246\n",
      "0.0001 0.05225094433387696\n",
      "1e-05 0.005224950988732984\n",
      "1e-06 0.0005226345250156033\n",
      "1.0000000000000001e-07 5.107987087210172e-05\n",
      "1e-08 1.1163067502708458e-05\n",
      "1e-09 0.00011904421027850139\n",
      "1e-10 0.001016143665819855\n"
     ]
    },
    {
     "data": {
      "image/png": "[encoded data removed]",
      "text/plain": [
       "<Figure size 432x288 with 1 Axes>"
      ]
     },
     "metadata": {
      "needs_background": "light"
     },
     "output_type": "display_data"
    },
    {
     "name": "stdout",
     "output_type": "stream",
     "text": [
      "0.1 137.78447547977018\n",
      "0.01 1.365025728241501\n",
      "0.001 0.013637447417513974\n",
      "0.0001 0.0001363619376985205\n",
      "1e-05 1.3644402823511026e-06\n",
      "1e-06 3.899695919621063e-08\n",
      "1.0000000000000001e-07 3.5640506164530917e-07\n",
      "1e-08 2.5798609849753788e-06\n",
      "1e-09 2.024650878482055e-05\n",
      "1e-10 0.00022035912949971807\n"
     ]
    },
    {
     "data": {
      "image/png": "[encoded data removed]",
      "text/plain": [
       "<Figure size 432x288 with 1 Axes>"
      ]
     },
     "metadata": {
      "needs_background": "light"
     },
     "output_type": "display_data"
    }
   ],
   "source": [
    "h0 = 0.1\n",
    "\n",
    "for i in range(0,10):\n",
    "    h = h0/10**i\n",
    "    plt.plot(x, np.abs(deriv_ac(x) - der_right(x, h)), label = h)\n",
    "    print(h, np.linalg.norm(deriv_ac(x) - der_right(x, h)))\n",
    "\n",
    "plt.xlabel('x')\n",
    "\n",
    "plt.ylabel('Error')\n",
    "\n",
    "plt.show()\n",
    "\n",
    "for i in range(0,10):\n",
    "    h = h0/10**i\n",
    "    plt.plot(x, np.abs(deriv_ac(x) - deriv(x, h)), label = h)\n",
    "    print(h, np.linalg.norm(deriv_ac(x) - deriv(x, h)))\n",
    "\n",
    "\n",
    "plt.xlabel('x')\n",
    "\n",
    "plt.ylabel('Error')\n",
    "\n",
    "plt.show()\n",
    "\n"
   ]
  },
  {
   "cell_type": "markdown",
   "metadata": {},
   "source": [
    "Оптимальный шаг для формулы правой разностной производной h = 1e-08. Погрешность составляет 1.1163067502708458e-05.\n",
    "\n",
    "Оптимальный шаг для найденной формулы производной h = 1e-06. Погрешность составляет 3.9017977578950376e-08"
   ]
  },
  {
   "cell_type": "code",
   "execution_count": null,
   "metadata": {},
   "outputs": [],
   "source": []
  }
 ],
 "metadata": {
  "kernelspec": {
   "display_name": "Python 3",
   "language": "python",
   "name": "python3"
  },
  "language_info": {
   "codemirror_mode": {
    "name": "ipython",
    "version": 3
   },
   "file_extension": ".py",
   "mimetype": "text/x-python",
   "name": "python",
   "nbconvert_exporter": "python",
   "pygments_lexer": "ipython3",
   "version": "3.7.3"
  }
 },
 "nbformat": 4,
 "nbformat_minor": 5
}
